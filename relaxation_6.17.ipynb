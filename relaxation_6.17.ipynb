{
 "cells": [
  {
   "cell_type": "code",
   "execution_count": 1,
   "metadata": {},
   "outputs": [],
   "source": [
    "import numpy as np"
   ]
  },
  {
   "cell_type": "code",
   "execution_count": 170,
   "metadata": {},
   "outputs": [],
   "source": [
    "#Defining constants \n",
    "\n",
    "Vplus = 5\n",
    "R1 = 1000\n",
    "R2 = 4000\n",
    "R3 = 3000\n",
    "R4 = 2000\n",
    "I0 = 3*1e-9 \n",
    "Vt = 0.05"
   ]
  },
  {
   "cell_type": "code",
   "execution_count": 171,
   "metadata": {},
   "outputs": [],
   "source": [
    "def f1(V1, V2):\n",
    "    return (R1*R2/(R1+R2)) * (Vplus/R1 - I0*( np.e**((V1 - V2)/Vt) - 1 ) )"
   ]
  },
  {
   "cell_type": "code",
   "execution_count": 172,
   "metadata": {},
   "outputs": [],
   "source": [
    "def f2(V1, V2):\n",
    "    return (R3*R4/(R3+R4)) * (Vplus/R3 + I0*( np.e**((V1 - V2)/Vt) - 1 ) )"
   ]
  },
  {
   "cell_type": "code",
   "execution_count": 178,
   "metadata": {},
   "outputs": [],
   "source": [
    "V1 = 3\n",
    "V2 = 3\n",
    "N = 1000\n",
    "w = 0.001 #To help with over-relaxation"
   ]
  },
  {
   "cell_type": "code",
   "execution_count": 179,
   "metadata": {},
   "outputs": [],
   "source": [
    "for i in range(N):\n",
    "    V1_new = f1(V1, V2)\n",
    "    V2_new = f2(V1, V2)\n",
    "    V1 = (1-w)*V1 + w*V1_new\n",
    "    V2 = (1-w)*V2 + w*V2_new"
   ]
  },
  {
   "cell_type": "code",
   "execution_count": 180,
   "metadata": {},
   "outputs": [
    {
     "data": {
      "text/plain": [
       "(3.37341553370688, 2.7560289870542003, 0.6173865466526798)"
      ]
     },
     "execution_count": 180,
     "metadata": {},
     "output_type": "execute_result"
    }
   ],
   "source": [
    "V1,V2, V1- V2"
   ]
  },
  {
   "cell_type": "code",
   "execution_count": null,
   "metadata": {},
   "outputs": [],
   "source": [
    "np.linalg.solve(A,B)"
   ]
  }
 ],
 "metadata": {
  "kernelspec": {
   "display_name": "Python 3",
   "language": "python",
   "name": "python3"
  },
  "language_info": {
   "codemirror_mode": {
    "name": "ipython",
    "version": 3
   },
   "file_extension": ".py",
   "mimetype": "text/x-python",
   "name": "python",
   "nbconvert_exporter": "python",
   "pygments_lexer": "ipython3",
   "version": "3.7.3"
  }
 },
 "nbformat": 4,
 "nbformat_minor": 2
}
